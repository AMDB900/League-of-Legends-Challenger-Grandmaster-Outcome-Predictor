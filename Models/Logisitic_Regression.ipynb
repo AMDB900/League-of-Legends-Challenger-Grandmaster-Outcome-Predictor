{
 "cells": [
  {
   "attachments": {},
   "cell_type": "markdown",
   "metadata": {},
   "source": [
    "## Reading the dataset:"
   ]
  },
  {
   "cell_type": "code",
   "execution_count": 1,
   "metadata": {},
   "outputs": [],
   "source": [
    "import pandas as pd\n",
    "from sklearn.model_selection import train_test_split\n",
    "from sklearn.linear_model import LogisticRegression\n",
    "import seaborn as sns\n",
    "from matplotlib import pyplot as plt\n",
    "from sklearn.linear_model import LogisticRegression\n",
    "from sklearn.metrics import classification_report, confusion_matrix, ConfusionMatrixDisplay, mean_squared_error\n",
    "from sklearn.model_selection import GridSearchCV\n",
    "import numpy as np\n",
    "\n",
    "import warnings\n",
    "warnings.filterwarnings('ignore')\n",
    "\n",
    "match_data = pd.read_csv('match_data.csv')\n",
    "match_data = match_data.drop(columns=['ID','Top', 'Jungle', 'Mid', 'Bot', 'Support', 'Enemy Top', 'Enemy Jungle', 'Enemy Mid', 'Enemy Bot', 'Enemy Support'])"
   ]
  },
  {
   "attachments": {},
   "cell_type": "markdown",
   "metadata": {},
   "source": [
    "### Splitting the dataset:"
   ]
  },
  {
   "cell_type": "code",
   "execution_count": 2,
   "metadata": {},
   "outputs": [],
   "source": [
    "train, test = train_test_split(match_data, test_size=0.2)\n",
    "x_train, y_train = train.drop(columns=['Victory']), train['Victory']\n",
    "x_test, y_test = test.drop(columns=['Victory']), test['Victory']"
   ]
  },
  {
   "attachments": {},
   "cell_type": "markdown",
   "metadata": {},
   "source": [
    "### Hyperparameter tuning:"
   ]
  },
  {
   "cell_type": "code",
   "execution_count": 6,
   "metadata": {},
   "outputs": [
    {
     "name": "stdout",
     "output_type": "stream",
     "text": [
      "Tuned Hyperparameters : {'C': 0.5, 'penalty': 'l2'}\n",
      "Accuracy : 0.9275299341415044\n"
     ]
    }
   ],
   "source": [
    "parameters = {\n",
    "    'penalty' : ['l1','l2'], \n",
    "    'C'       : [0.1, 0.5, 1, 5, 10, 50, 100],\n",
    "}\n",
    "\n",
    "logistic = LogisticRegression()\n",
    "\n",
    "grid_logistic = GridSearchCV(logistic, param_grid=parameters, scoring='accuracy', cv=10)\n",
    "\n",
    "grid_logistic.fit(x_train, y_train)\n",
    "\n",
    "print(\"Tuned Hyperparameters :\", grid_logistic.best_params_)\n",
    "print(\"Accuracy :\",grid_logistic.best_score_)\n"
   ]
  },
  {
   "attachments": {},
   "cell_type": "markdown",
   "metadata": {},
   "source": [
    "### Training the model:"
   ]
  },
  {
   "cell_type": "code",
   "execution_count": 7,
   "metadata": {},
   "outputs": [
    {
     "name": "stdout",
     "output_type": "stream",
     "text": [
      "Testing results:\n",
      "\n",
      "               precision    recall  f1-score   support\n",
      "\n",
      "       False       0.92      0.91      0.92      1643\n",
      "        True       0.92      0.93      0.92      1687\n",
      "\n",
      "    accuracy                           0.92      3330\n",
      "   macro avg       0.92      0.92      0.92      3330\n",
      "weighted avg       0.92      0.92      0.92      3330\n",
      "\n",
      "Training MSE: 0.0757735055572244\n",
      "Testing MSE: 0.07897897897897897\n",
      "Variance: 0.003205473421754576\n",
      "[[1503  140]\n",
      " [ 123 1564]]\n"
     ]
    }
   ],
   "source": [
    "logistic = LogisticRegression(C=50, penalty='l2')\n",
    "logistic.fit(x_train, y_train)\n",
    "\n",
    "y_train_pred = logistic.predict(x_train)\n",
    "\n",
    "predictions = logistic.predict(x_test)\n",
    "\n",
    "print(\"Testing results:\\n\\n %s\" % classification_report(y_test, predictions))\n",
    "\n",
    "training_mse = mean_squared_error(y_train.astype(int), y_train_pred.astype(int))\n",
    "testing_mse = mean_squared_error(y_test.astype(int), predictions.astype(int))\n",
    "\n",
    "print(\"Training MSE: %s\" % training_mse)\n",
    "print(\"Testing MSE: %s\" % testing_mse)\n",
    "\n",
    "print(\"Variance: %s\" % abs(testing_mse - training_mse))\n",
    "\n",
    "cm = confusion_matrix(y_test, predictions)\n",
    "print(cm)"
   ]
  },
  {
   "attachments": {},
   "cell_type": "markdown",
   "metadata": {},
   "source": [
    "### Confusion matrix"
   ]
  },
  {
   "cell_type": "code",
   "execution_count": 13,
   "metadata": {},
   "outputs": [
    {
     "data": {
      "image/png": "[encoded data removed]",
      "text/plain": [
       "<Figure size 300x300 with 2 Axes>"
      ]
     },
     "metadata": {},
     "output_type": "display_data"
    }
   ],
   "source": [
    "# cm1 = sns.heatmap(cm, annot=True, cmap='Greens', fmt='g')\n",
    "# cm1.set_title('Logistic Regression Confusion Matrix\\n\\n');\n",
    "# cm1.set_xlabel('\\nPredicted')\n",
    "# cm1.set_ylabel('Actual');\n",
    "# temp = ['Win', 'Lose']\n",
    "\n",
    "# cm1.xaxis.set_ticklabels(temp, fontsize=18)\n",
    "# cm1.yaxis.set_ticklabels(temp, fontsize=18)\n",
    "\n",
    "disp = ConfusionMatrixDisplay.from_predictions(\n",
    "                  predictions,\n",
    "                  y_test, \n",
    "                  labels=[1,0],\n",
    "                  cmap=plt.cm.Greens,\n",
    "                  display_labels=['Win','Loss'], \n",
    "                  values_format='',  \n",
    ") \n",
    "fig = disp.ax_.get_figure() \n",
    "fig.set_figwidth(3)\n",
    "fig.set_figheight(3) \n",
    "\n",
    "plt.show()"
   ]
  },
  {
   "cell_type": "code",
   "execution_count": 11,
   "metadata": {},
   "outputs": [],
   "source": [
    "import pickle\n",
    "with open('logistic_regression_model.pkl', 'wb') as file:\n",
    "    pickle.dump(logistic, file)"
   ]
  }
 ],
 "metadata": {
  "kernelspec": {
   "display_name": "tf-gpu",
   "language": "python",
   "name": "python3"
  },
  "language_info": {
   "codemirror_mode": {
    "name": "ipython",
    "version": 3
   },
   "file_extension": ".py",
   "mimetype": "text/x-python",
   "name": "python",
   "nbconvert_exporter": "python",
   "pygments_lexer": "ipython3",
   "version": "3.10.9"
  },
  "orig_nbformat": 4
 },
 "nbformat": 4,
 "nbformat_minor": 2
}
