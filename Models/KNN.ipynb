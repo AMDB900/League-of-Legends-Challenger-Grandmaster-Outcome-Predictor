{
 "cells": [
  {
   "attachments": {},
   "cell_type": "markdown",
   "metadata": {},
   "source": [
    "# K-nearest neighbors:"
   ]
  },
  {
   "cell_type": "code",
   "execution_count": 1,
   "metadata": {},
   "outputs": [],
   "source": [
    "import pandas as pd\n",
    "from sklearn import datasets\n",
    "from sklearn.model_selection import train_test_split\n",
    "from sklearn.neighbors import KNeighborsClassifier\n",
    "from sklearn.metrics import classification_report, confusion_matrix, ConfusionMatrixDisplay, mean_squared_error\n",
    "import seaborn as sns\n",
    "from matplotlib import pyplot as plt\n",
    "from sklearn.model_selection import GridSearchCV\n",
    "import numpy as np\n",
    "\n",
    "import warnings\n",
    "warnings.filterwarnings('ignore')\n",
    "\n",
    "match_data = pd.read_csv('match_data.csv')\n",
    "match_data = match_data.drop(columns=['ID', 'Top', 'Jungle', 'Mid', 'Bot', 'Support', 'Enemy Top', 'Enemy Jungle', 'Enemy Mid', 'Enemy Bot', 'Enemy Support'])"
   ]
  },
  {
   "attachments": {},
   "cell_type": "markdown",
   "metadata": {},
   "source": [
    "### Splitting the dataset:"
   ]
  },
  {
   "cell_type": "code",
   "execution_count": 2,
   "metadata": {},
   "outputs": [],
   "source": [
    "train, test = train_test_split(match_data, test_size=0.2)\n",
    "x_train, y_train = train.drop(columns=['Victory']), train['Victory']\n",
    "x_test, y_test = test.drop(columns=['Victory']), test['Victory']"
   ]
  },
  {
   "attachments": {},
   "cell_type": "markdown",
   "metadata": {},
   "source": [
    "### Hyperparameter tuning:"
   ]
  },
  {
   "cell_type": "code",
   "execution_count": 6,
   "metadata": {},
   "outputs": [
    {
     "name": "stdout",
     "output_type": "stream",
     "text": [
      "Tuned Hyperparameters : {'leaf_size': 3, 'n_neighbors': 1}\n",
      "Accuracy : 0.7407627762999665\n"
     ]
    }
   ],
   "source": [
    "parameters = {\n",
    "    'n_neighbors' : [1, 2, 5, 10, 100, 500], \n",
    "    'leaf_size'   : [1, 3, 5],\n",
    "}\n",
    "\n",
    "knn = KNeighborsClassifier()\n",
    "\n",
    "grid_logistic = GridSearchCV(knn, param_grid=parameters, scoring='accuracy', cv=10)\n",
    "\n",
    "grid_logistic.fit(x_train, y_train)\n",
    "\n",
    "print(\"Tuned Hyperparameters :\", grid_logistic.best_params_)\n",
    "print(\"Accuracy :\",grid_logistic.best_score_)"
   ]
  },
  {
   "attachments": {},
   "cell_type": "markdown",
   "metadata": {},
   "source": [
    "### Training the model:"
   ]
  },
  {
   "cell_type": "code",
   "execution_count": 7,
   "metadata": {},
   "outputs": [
    {
     "name": "stdout",
     "output_type": "stream",
     "text": [
      "Testing results:\n",
      "\n",
      "               precision    recall  f1-score   support\n",
      "\n",
      "       False       0.72      0.71      0.72      1627\n",
      "        True       0.73      0.74      0.73      1703\n",
      "\n",
      "    accuracy                           0.73      3330\n",
      "   macro avg       0.73      0.73      0.73      3330\n",
      "weighted avg       0.73      0.73      0.73      3330\n",
      "\n",
      "Training MSE: 0.0009011715229798738\n",
      "Testing MSE: 0.2735735735735736\n",
      "Variance: 0.27267240205059373\n",
      "[[1157  470]\n",
      " [ 441 1262]]\n"
     ]
    }
   ],
   "source": [
    "knn = KNeighborsClassifier(n_neighbors=1, leaf_size=3)\n",
    "knn.fit(x_train, y_train)\n",
    "\n",
    "y_train_pred = knn.predict(x_train)\n",
    "# Make predictions on the testing set\n",
    "predictions = knn.predict(x_test)\n",
    "\n",
    "print(\"Testing results:\\n\\n %s\" % classification_report(y_test, predictions))\n",
    "\n",
    "training_mse = mean_squared_error(y_train.astype(int), y_train_pred.astype(int))\n",
    "testing_mse = mean_squared_error(y_test.astype(int), predictions.astype(int))\n",
    "\n",
    "print(\"Training MSE: %s\" % training_mse)\n",
    "print(\"Testing MSE: %s\" % testing_mse)\n",
    "\n",
    "print(\"Variance: %s\" % abs(testing_mse - training_mse))\n",
    "\n",
    "cm = confusion_matrix(y_test, predictions)\n",
    "print(cm)"
   ]
  },
  {
   "attachments": {},
   "cell_type": "markdown",
   "metadata": {},
   "source": [
    "### Confusion Matrix:"
   ]
  },
  {
   "cell_type": "code",
   "execution_count": 9,
   "metadata": {},
   "outputs": [
    {
     "data": {
      "text/plain": [
       "<Figure size 640x480 with 0 Axes>"
      ]
     },
     "metadata": {},
     "output_type": "display_data"
    },
    {
     "data": {
      "image/png": "[encoded data removed]",
      "text/plain": [
       "<Figure size 300x300 with 2 Axes>"
      ]
     },
     "metadata": {},
     "output_type": "display_data"
    }
   ],
   "source": [
    "plt.cla()\n",
    "plt.clf()\n",
    "disp = ConfusionMatrixDisplay.from_predictions(\n",
    "                  y_test, \n",
    "                  predictions, \n",
    "                  labels=[1,0],\n",
    "                  cmap=plt.cm.Greens,\n",
    "                  display_labels=['Win','Loss'], \n",
    "                  values_format='',  \n",
    ") \n",
    "fig = disp.ax_.get_figure() \n",
    "fig.set_figwidth(3)\n",
    "fig.set_figheight(3) \n",
    "\n",
    "plt.show()"
   ]
  },
  {
   "cell_type": "code",
   "execution_count": 5,
   "metadata": {},
   "outputs": [],
   "source": [
    "# Save Model\n",
    "import pickle\n",
    "with open('kNN_model.pkl', 'wb') as file:\n",
    "    pickle.dump(knn, file)"
   ]
  }
 ],
 "metadata": {
  "kernelspec": {
   "display_name": "tf-gpu",
   "language": "python",
   "name": "python3"
  },
  "language_info": {
   "codemirror_mode": {
    "name": "ipython",
    "version": 3
   },
   "file_extension": ".py",
   "mimetype": "text/x-python",
   "name": "python",
   "nbconvert_exporter": "python",
   "pygments_lexer": "ipython3",
   "version": "3.10.9"
  },
  "orig_nbformat": 4
 },
 "nbformat": 4,
 "nbformat_minor": 2
}
