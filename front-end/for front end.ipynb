{
 "cells": [
  {
   "cell_type": "code",
   "execution_count": 24,
   "metadata": {},
   "outputs": [],
   "source": [
    "import pandas as pd\n",
    "import numpy as np\n",
    "import torch\n",
    "\n",
    "champions = ['Top', 'Jungle', 'Mid', 'Bot', 'Support', 'Enemy Top', 'Enemy Jungle', 'Enemy Mid', 'Enemy Bot', 'Enemy Support']\n",
    "in_game_attributes = ['Team Gold', 'Team Kills', 'Team Deaths', 'Dragons', 'Dragon Soul', 'Baron', 'Rift Herald', 'First tower', 'First Kill', 'Team Total CC']\n"
   ]
  },
  {
   "attachments": {},
   "cell_type": "markdown",
   "metadata": {},
   "source": [
    "### 2-Step Model Testing"
   ]
  },
  {
   "cell_type": "code",
   "execution_count": 25,
   "metadata": {},
   "outputs": [],
   "source": [
    "import pickle\n",
    "with open('random_forest_model.pkl', 'rb') as file:\n",
    "    loaded_model = pickle.load(file)\n",
    "with open(\"scaler.pkl\", \"rb\") as file:\n",
    "    scaler = pickle.load(file)\n",
    "with open(\"encoding_scheme.pkl\", \"rb\") as file:\n",
    "    encoding_scheme = pickle.load(file)"
   ]
  },
  {
   "cell_type": "code",
   "execution_count": 29,
   "metadata": {},
   "outputs": [
    {
     "data": {
      "text/html": [
       "<div>\n",
       "<style scoped>\n",
       "    .dataframe tbody tr th:only-of-type {\n",
       "        vertical-align: middle;\n",
       "    }\n",
       "\n",
       "    .dataframe tbody tr th {\n",
       "        vertical-align: top;\n",
       "    }\n",
       "\n",
       "    .dataframe thead th {\n",
       "        text-align: right;\n",
       "    }\n",
       "</style>\n",
       "<table border=\"1\" class=\"dataframe\">\n",
       "  <thead>\n",
       "    <tr style=\"text-align: right;\">\n",
       "      <th></th>\n",
       "      <th>Top_Aatrox</th>\n",
       "      <th>Top_Ahri</th>\n",
       "      <th>Top_Akali</th>\n",
       "      <th>Top_Akshan</th>\n",
       "      <th>Top_Alistar</th>\n",
       "      <th>Top_Amumu</th>\n",
       "      <th>Top_Anivia</th>\n",
       "      <th>Top_Annie</th>\n",
       "      <th>Top_Aphelios</th>\n",
       "      <th>Top_Ashe</th>\n",
       "      <th>...</th>\n",
       "      <th>Enemy Support_Yone</th>\n",
       "      <th>Enemy Support_Yorick</th>\n",
       "      <th>Enemy Support_Yuumi</th>\n",
       "      <th>Enemy Support_Zac</th>\n",
       "      <th>Enemy Support_Zed</th>\n",
       "      <th>Enemy Support_Zeri</th>\n",
       "      <th>Enemy Support_Ziggs</th>\n",
       "      <th>Enemy Support_Zilean</th>\n",
       "      <th>Enemy Support_Zoe</th>\n",
       "      <th>Enemy Support_Zyra</th>\n",
       "    </tr>\n",
       "  </thead>\n",
       "  <tbody>\n",
       "    <tr>\n",
       "      <th>0</th>\n",
       "      <td>0</td>\n",
       "      <td>0</td>\n",
       "      <td>0</td>\n",
       "      <td>0</td>\n",
       "      <td>0</td>\n",
       "      <td>0</td>\n",
       "      <td>0</td>\n",
       "      <td>0</td>\n",
       "      <td>0</td>\n",
       "      <td>0</td>\n",
       "      <td>...</td>\n",
       "      <td>0</td>\n",
       "      <td>0</td>\n",
       "      <td>0</td>\n",
       "      <td>0</td>\n",
       "      <td>0</td>\n",
       "      <td>0</td>\n",
       "      <td>0</td>\n",
       "      <td>0</td>\n",
       "      <td>0</td>\n",
       "      <td>0</td>\n",
       "    </tr>\n",
       "  </tbody>\n",
       "</table>\n",
       "<p>1 rows × 1616 columns</p>\n",
       "</div>"
      ],
      "text/plain": [
       "  Top_Aatrox Top_Ahri Top_Akali Top_Akshan Top_Alistar Top_Amumu Top_Anivia  \\\n",
       "0          0        0         0          0           0         0          0   \n",
       "\n",
       "  Top_Annie Top_Aphelios Top_Ashe  ... Enemy Support_Yone  \\\n",
       "0         0            0        0  ...                  0   \n",
       "\n",
       "  Enemy Support_Yorick Enemy Support_Yuumi Enemy Support_Zac  \\\n",
       "0                    0                   0                 0   \n",
       "\n",
       "  Enemy Support_Zed Enemy Support_Zeri Enemy Support_Ziggs  \\\n",
       "0                 0                  0                   0   \n",
       "\n",
       "  Enemy Support_Zilean Enemy Support_Zoe Enemy Support_Zyra  \n",
       "0                    0                 0                  0  \n",
       "\n",
       "[1 rows x 1616 columns]"
      ]
     },
     "metadata": {},
     "output_type": "display_data"
    }
   ],
   "source": [
    "new_input = pd.DataFrame(columns=encoding_scheme)\n",
    "row_with_zeroes = pd.Series(0, index=encoding_scheme)\n",
    "\n",
    "# Add the row to the new_input DataFrame\n",
    "new_input = pd.concat([new_input, row_with_zeroes.to_frame().T], ignore_index=True)\n",
    "input_dict = {\n",
    "    'Top': 'Singed',\n",
    "    'Jungle': 'Taliyah',\n",
    "    'Mid': 'Gangplank',\n",
    "    'Bot': 'Zeri',\n",
    "    'Support': 'Renata',\n",
    "    'Enemy Top': 'Riven',\n",
    "    'Enemy Jungle': 'Graves',\n",
    "    'Enemy Mid': 'Swain',\n",
    "    'Enemy Bot': 'Twitch',\n",
    "    'Enemy Support': 'Lulu'\n",
    "}\n",
    "df = pd.DataFrame(input_dict, index=[0])\n",
    "encoded_input = pd.get_dummies(df)\n",
    "intersect = new_input.columns.intersection(encoded_input.columns)\n",
    "new_input[intersect] = 1\n",
    "display(new_input)"
   ]
  },
  {
   "cell_type": "code",
   "execution_count": 30,
   "metadata": {},
   "outputs": [
    {
     "data": {
      "text/html": [
       "<div>\n",
       "<style scoped>\n",
       "    .dataframe tbody tr th:only-of-type {\n",
       "        vertical-align: middle;\n",
       "    }\n",
       "\n",
       "    .dataframe tbody tr th {\n",
       "        vertical-align: top;\n",
       "    }\n",
       "\n",
       "    .dataframe thead th {\n",
       "        text-align: right;\n",
       "    }\n",
       "</style>\n",
       "<table border=\"1\" class=\"dataframe\">\n",
       "  <thead>\n",
       "    <tr style=\"text-align: right;\">\n",
       "      <th></th>\n",
       "      <th>Team Gold</th>\n",
       "      <th>Team Kills</th>\n",
       "      <th>Team Deaths</th>\n",
       "      <th>Dragons</th>\n",
       "      <th>Dragon Soul</th>\n",
       "      <th>Baron</th>\n",
       "      <th>Rift Herald</th>\n",
       "      <th>First tower</th>\n",
       "      <th>First Kill</th>\n",
       "      <th>Team Total CC</th>\n",
       "    </tr>\n",
       "  </thead>\n",
       "  <tbody>\n",
       "    <tr>\n",
       "      <th>0</th>\n",
       "      <td>47459</td>\n",
       "      <td>25</td>\n",
       "      <td>25</td>\n",
       "      <td>1</td>\n",
       "      <td>0</td>\n",
       "      <td>1</td>\n",
       "      <td>1</td>\n",
       "      <td>0</td>\n",
       "      <td>0</td>\n",
       "      <td>91</td>\n",
       "    </tr>\n",
       "  </tbody>\n",
       "</table>\n",
       "</div>"
      ],
      "text/plain": [
       "   Team Gold  Team Kills  Team Deaths  Dragons  Dragon Soul  Baron  \\\n",
       "0      47459          25           25        1            0      1   \n",
       "\n",
       "   Rift Herald  First tower  First Kill  Team Total CC  \n",
       "0            1            0           0             91  "
      ]
     },
     "metadata": {},
     "output_type": "display_data"
    }
   ],
   "source": [
    "model = torch.load('fnn_num_model.pth')\n",
    "model.eval()\n",
    "input_tensor = torch.tensor(np.array(new_input, dtype=np.float32), dtype=torch.float32)\n",
    "\n",
    "if torch.cuda.is_available():\n",
    "    input_tensor = input_tensor.cuda()\n",
    "with torch.no_grad():\n",
    "    output = model(input_tensor)\n",
    "    \n",
    "post_out = np.round(scaler.inverse_transform(output.cpu().numpy())).astype(int)\n",
    "out_table = pd.DataFrame(post_out, columns=in_game_attributes)\n",
    "display(out_table)"
   ]
  },
  {
   "cell_type": "code",
   "execution_count": 31,
   "metadata": {},
   "outputs": [
    {
     "name": "stdout",
     "output_type": "stream",
     "text": [
      "False\n",
      "38.90%\n"
     ]
    }
   ],
   "source": [
    "output = loaded_model.predict(post_out)\n",
    "print(output[0])\n",
    "prob_out = loaded_model.predict_proba(post_out)[:, 1]\n",
    "print(\"{:.2f}%\".format(prob_out[0] * 100))"
   ]
  }
 ],
 "metadata": {
  "kernelspec": {
   "display_name": "Python 3",
   "language": "python",
   "name": "python3"
  },
  "language_info": {
   "codemirror_mode": {
    "name": "ipython",
    "version": 3
   },
   "file_extension": ".py",
   "mimetype": "text/x-python",
   "name": "python",
   "nbconvert_exporter": "python",
   "pygments_lexer": "ipython3",
   "version": "3.10.9"
  },
  "orig_nbformat": 4
 },
 "nbformat": 4,
 "nbformat_minor": 2
}
